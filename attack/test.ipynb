{
 "cells": [
  {
   "cell_type": "code",
   "execution_count": 19,
   "metadata": {},
   "outputs": [
    {
     "name": "stdout",
     "output_type": "stream",
     "text": [
      "torch.Size([])\n",
      "torch.Size([4, 8])\n",
      "torch.Size([4])\n"
     ]
    }
   ],
   "source": [
    "import torch\n",
    "import torch.nn.functional as F\n",
    "\n",
    "# sim_func = torch.nn.CosineSimilarity(dim=1, eps=1e-8)\n",
    "sim_func = torch.nn.KLDivLoss(reduction='sum')\n",
    "\n",
    "g1 = torch.rand(4, 8, 1000)\n",
    "g2 = torch.rand(4, 8, 1000)\n",
    "\n",
    "r1 = sim_func(F.normalize(g1,dim=1), F.normalize(g2,dim=1))\n",
    "result = torch.zeros(size=(4, 8), dtype=torch.float)\n",
    "\n",
    "print(r1.shape)\n",
    "\n",
    "for i in range(4):\n",
    "    sim = sim_func(F.normalize(g1[i], dim=1), F.normalize(g2[i], dim=1))\n",
    "    result[i] = sim\n",
    "\n",
    "print(result.shape)\n",
    "print(F.normalize(result, dim=0, p=2).sum(dim=1).shape)\n",
    "# result.mean(dim=0).softmax(dim=0)\n",
    "\n",
    "# print(result.softmax(dim=0).shape)\n",
    "# print(result.softmax(dim=0))"
   ]
  },
  {
   "cell_type": "code",
   "execution_count": 3,
   "metadata": {},
   "outputs": [
    {
     "data": {
      "text/plain": [
       "torch.Size([4, 8, 3, 224, 224])"
      ]
     },
     "execution_count": 3,
     "metadata": {},
     "output_type": "execute_result"
    }
   ],
   "source": [
    "import torch\n",
    "import torch.nn.functional as F\n",
    "\n",
    "g1 = torch.rand(4, 8, 3, 224, 224)\n",
    "g2 = torch.rand(4, 8, 3, 224, 224)\n",
    "\n",
    "gg = g1.view(4*8,-1)\n",
    "gg.view_as(g1).shape"
   ]
  },
  {
   "cell_type": "code",
   "execution_count": null,
   "metadata": {},
   "outputs": [],
   "source": [
    "# 使用梯度更新来得到正交的两个向量\n",
    "import torch\n",
    "import torch.nn.functional as F\n",
    "\n",
    "noise1 = torch.rand(4, 8, 3, 224, 224)\n",
    "noise2 = torch.rand(4, 8, 3, 224, 224)\n"
   ]
  }
 ],
 "metadata": {
  "kernelspec": {
   "display_name": "base",
   "language": "python",
   "name": "python3"
  },
  "language_info": {
   "codemirror_mode": {
    "name": "ipython",
    "version": 3
   },
   "file_extension": ".py",
   "mimetype": "text/x-python",
   "name": "python",
   "nbconvert_exporter": "python",
   "pygments_lexer": "ipython3",
   "version": "3.8.10"
  }
 },
 "nbformat": 4,
 "nbformat_minor": 2
}
